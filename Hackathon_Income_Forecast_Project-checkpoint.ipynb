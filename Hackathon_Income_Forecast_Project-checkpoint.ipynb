{
 "cells": [
  {
   "cell_type": "code",
   "execution_count": 1,
   "id": "2454fb35",
   "metadata": {},
   "outputs": [],
   "source": [
    "import pandas as pd\n",
    "import numpy as np\n",
    "from sklearn.model_selection import train_test_split, KFold, cross_val_score\n",
    "from sklearn.impute import SimpleImputer\n",
    "from sklearn.preprocessing import OneHotEncoder, RobustScaler, PolynomialFeatures\n",
    "from sklearn.compose import ColumnTransformer\n",
    "from sklearn.pipeline import Pipeline\n",
    "from sklearn.ensemble import GradientBoostingRegressor\n",
    "from sklearn.metrics import mean_squared_error\n",
    "from sklearn.base import BaseEstimator, TransformerMixin"
   ]
  },
  {
   "cell_type": "code",
   "execution_count": 2,
   "id": "cf7e2412",
   "metadata": {},
   "outputs": [],
   "source": [
    "# Load the datasets\n",
    "train_data = pd.read_csv('./Downloads/open/train.csv')\n",
    "test_data = pd.read_csv('./Downloads/open/test.csv')"
   ]
  },
  {
   "cell_type": "code",
   "execution_count": 3,
   "id": "185c3f78",
   "metadata": {},
   "outputs": [],
   "source": [
    "# Separate target from predictors\n",
    "y = train_data['Income']\n",
    "X = train_data.drop(['Income', 'ID'], axis=1)\n",
    "X_test = test_data.drop('ID', axis=1)"
   ]
  },
  {
   "cell_type": "code",
   "execution_count": 4,
   "id": "2df780e6",
   "metadata": {},
   "outputs": [],
   "source": [
    "# List of numerical and categorical columns\n",
    "numerical_cols = X.select_dtypes(include=['int64', 'float64']).columns\n",
    "categorical_cols = X.select_dtypes(include=['object']).columns"
   ]
  },
  {
   "cell_type": "code",
   "execution_count": 5,
   "id": "d1a07900",
   "metadata": {},
   "outputs": [],
   "source": [
    "class CustomFeatureGenerator(BaseEstimator, TransformerMixin):\n",
    "    def __init__(self):\n",
    "        pass\n",
    "    \n",
    "    def fit(self, X, y=None):\n",
    "        return self\n",
    "    \n",
    "    def transform(self, X):\n",
    "        # Example of custom feature engineering\n",
    "        # X['new_feature'] = X['existing_feature1'] / (X['existing_feature2'] + 1)\n",
    "        return X"
   ]
  },
  {
   "cell_type": "code",
   "execution_count": 6,
   "id": "d0653bf6",
   "metadata": {},
   "outputs": [],
   "source": [
    "# Preprocessing for numerical data\n",
    "numerical_transformer = Pipeline(steps=[\n",
    "    ('imputer', SimpleImputer(strategy='median')),\n",
    "    ('scaler', RobustScaler()),\n",
    "    ('polynomial', PolynomialFeatures(degree=2, include_bias=False)),\n",
    "    ('custom_features', CustomFeatureGenerator())\n",
    "])"
   ]
  },
  {
   "cell_type": "code",
   "execution_count": 7,
   "id": "4d9c0c76",
   "metadata": {},
   "outputs": [],
   "source": [
    "# Preprocessing for categorical data using OneHotEncoder\n",
    "categorical_transformer = Pipeline(steps=[\n",
    "    ('imputer', SimpleImputer(strategy='most_frequent')),\n",
    "    ('onehot', OneHotEncoder(handle_unknown='ignore'))\n",
    "])"
   ]
  },
  {
   "cell_type": "code",
   "execution_count": 10,
   "id": "ec019383",
   "metadata": {},
   "outputs": [],
   "source": [
    "# Create a pipeline that combines the preprocessor with the model\n",
    "pipeline = Pipeline(steps=[('preprocessor', preprocessor),\n",
    "                           ('model', model)])"
   ]
  },
  {
   "cell_type": "code",
   "execution_count": 11,
   "id": "b4ff61e8",
   "metadata": {},
   "outputs": [],
   "source": [
    "# Use KFold for cross-validation\n",
    "cv = KFold(n_splits=5, shuffle=True, random_state=42)"
   ]
  },
  {
   "cell_type": "code",
   "execution_count": 12,
   "id": "3f4644f9",
   "metadata": {},
   "outputs": [],
   "source": [
    "# Evaluate the model using cross-validation\n",
    "scores = cross_val_score(pipeline, X, y, scoring='neg_root_mean_squared_error', cv=cv)"
   ]
  },
  {
   "cell_type": "code",
   "execution_count": 13,
   "id": "fa88f2c3",
   "metadata": {},
   "outputs": [
    {
     "name": "stdout",
     "output_type": "stream",
     "text": [
      "Average RMSE score: 602.657776012031\n"
     ]
    }
   ],
   "source": [
    "print(\"Average RMSE score:\", -scores.mean())"
   ]
  },
  {
   "cell_type": "code",
   "execution_count": 14,
   "id": "cc479799",
   "metadata": {},
   "outputs": [],
   "source": [
    "# Refit the model on the whole dataset\n",
    "pipeline.fit(X, y)\n",
    "\n",
    "# Make predictions\n",
    "predictions = pipeline.predict(X_test)"
   ]
  },
  {
   "cell_type": "code",
   "execution_count": 16,
   "id": "b9678c69",
   "metadata": {},
   "outputs": [],
   "source": [
    "# Save the predictions into a submission file\n",
    "output = pd.DataFrame({'ID': test_data.ID, 'Income': predictions})\n",
    "output.to_csv('./Downloads/open/final_submission.csv', index=False)"
   ]
  }
 ],
 "metadata": {
  "kernelspec": {
   "display_name": "Python 3 (ipykernel)",
   "language": "python",
   "name": "python3"
  },
  "language_info": {
   "codemirror_mode": {
    "name": "ipython",
    "version": 3
   },
   "file_extension": ".py",
   "mimetype": "text/x-python",
   "name": "python",
   "nbconvert_exporter": "python",
   "pygments_lexer": "ipython3",
   "version": "3.11.4"
  }
 },
 "nbformat": 4,
 "nbformat_minor": 5
}
